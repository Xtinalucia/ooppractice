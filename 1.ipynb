{
 "cells": [
  {
   "cell_type": "code",
   "execution_count": 58,
   "id": "8836349e",
   "metadata": {},
   "outputs": [
    {
     "ename": "NameError",
     "evalue": "name 'value' is not defined",
     "output_type": "error",
     "traceback": [
      "\u001b[0;31m---------------------------------------------------------------------------\u001b[0m",
      "\u001b[0;31mNameError\u001b[0m                                 Traceback (most recent call last)",
      "\u001b[0;32m<ipython-input-58-4c7fc97bfcc5>\u001b[0m in \u001b[0;36m<module>\u001b[0;34m\u001b[0m\n\u001b[1;32m     70\u001b[0m \u001b[0;31m#test_game.deal()\u001b[0m\u001b[0;34m\u001b[0m\u001b[0;34m\u001b[0m\u001b[0;34m\u001b[0m\u001b[0m\n\u001b[1;32m     71\u001b[0m \u001b[0;34m\u001b[0m\u001b[0m\n\u001b[0;32m---> 72\u001b[0;31m \u001b[0mtest\u001b[0m \u001b[0;34m=\u001b[0m \u001b[0mGame\u001b[0m\u001b[0;34m(\u001b[0m\u001b[0mvalue\u001b[0m\u001b[0;34m,\u001b[0m\u001b[0msuit\u001b[0m\u001b[0;34m)\u001b[0m\u001b[0;34m\u001b[0m\u001b[0;34m\u001b[0m\u001b[0m\n\u001b[0m\u001b[1;32m     73\u001b[0m \u001b[0mtest\u001b[0m\u001b[0;34m.\u001b[0m\u001b[0mplayer_hand\u001b[0m\u001b[0;34m(\u001b[0m\u001b[0;34m)\u001b[0m\u001b[0;34m\u001b[0m\u001b[0;34m\u001b[0m\u001b[0m\n",
      "\u001b[0;31mNameError\u001b[0m: name 'value' is not defined"
     ]
    }
   ],
   "source": [
    "import itertools, random\n",
    "class Card:#for individual cards\n",
    "    def __init__(self, suit, value):\n",
    "        self.suit = suit\n",
    "        self.value = value\n",
    "    def reveal(self):\n",
    "        print(f'Cards = {self.value} of {self.suit}')#this is to reveal the hand \n",
    "    \n",
    "class Deck:                   #deck for shuffling/dealing\n",
    "    def __init__(self):\n",
    "        \n",
    "            self.card_stack = [] #holds dealt cards  \n",
    "            \n",
    "#     def face(self,value):    \n",
    "#         if self.card == \"J\" = 10\n",
    "#         if self.card == \"Q\" = 10\n",
    "#         if self.card == \"K\" = 10\n",
    "#         if self.card == \"A\" = 11\n",
    "            \n",
    "    def deal(self, deal):     \n",
    "        self.deal = deal\n",
    "        random.shuffle(self.card_stack)             #shuffle the deck\n",
    "                                                 #A = [1, 2], B = ['a', 'b'] make 2 list in 1 lost of tuples\n",
    "        self.card_stack = list(itertools.product(range(1,10),['Spades','Hearts','Diamonds','Clubs','Q','K','J']))#shuffled list\n",
    "        for i in range(2):\n",
    "            print(self.card_stack[i][0], \"of\", self.card_stack[i][1])  #[random number][index] -- SHOWS 2 cards\n",
    "            if sum(card_stack) == 21:\n",
    "                print('BlackJack, You Win!!!')  #automatic win 1st round/hand\n",
    "\n",
    "class Game:\n",
    "    def __init__(self, value,suit):\n",
    "        self.suit = suit\n",
    "        self.value = value\n",
    "        self.card = Card()\n",
    "        self.deck = Deck()\n",
    "        self.dealer_hand = dealer_hand\n",
    "        self.player_hand = player_hand\n",
    "        \n",
    "    def player_hand(self):\n",
    "   \n",
    "        response = input('Hit or Stay?').lower()   #ask player question if no blackjack\n",
    "        if response == 'Hit':  \n",
    "            for i in range(1):\n",
    "                print(self.card_stack[i][0], \"of\", self.card_stack[i][1])  #deal 1 card / show\n",
    "                self.card_stack.append() #adding to the hand\n",
    "                if sum(self.card_stack) == 21:\n",
    "                        print('You Win!!!')\n",
    "                elif sum(self.card_stack) > 21:\n",
    "                            print('bust')\n",
    "                if response == input('Hit or Stay?').lower(): #ask again\n",
    "                    if input == 'stay':\n",
    "                        print(f'Cards = {self.value} of {self.suit}')#this is to reveal the hand \n",
    "\n",
    "    def dealer_hand(self):  \n",
    "        \n",
    "        for i in range(1):\n",
    "            print(self.card_stack[i][0], \"of\", self.card_stack[i][1])  #deal 1 card / show\n",
    "            self.card_stack.append()\n",
    "        if dealer_hand == 21:\n",
    "             print('win')\n",
    "        elif dealer_hand > 21:\n",
    "             print('bust')\n",
    "\n",
    " \n",
    "\n",
    "\n",
    "   \n",
    "test_game = Deck()\n",
    "\n",
    "#test_game.deal()\n",
    "\n",
    "test = Game(value,suit)\n",
    "test.player_hand()   "
   ]
  },
  {
   "cell_type": "code",
   "execution_count": 26,
   "id": "46b56efa",
   "metadata": {},
   "outputs": [
    {
     "ename": "SyntaxError",
     "evalue": "invalid syntax (<ipython-input-26-add10869b4b1>, line 1)",
     "output_type": "error",
     "traceback": [
      "\u001b[0;36m  File \u001b[0;32m\"<ipython-input-26-add10869b4b1>\"\u001b[0;36m, line \u001b[0;32m1\u001b[0m\n\u001b[0;31m    The itertools.product() function is for exactly this situation.\u001b[0m\n\u001b[0m        ^\u001b[0m\n\u001b[0;31mSyntaxError\u001b[0m\u001b[0;31m:\u001b[0m invalid syntax\n"
     ]
    }
   ],
   "source": [
    "The itertools.product() function is for exactly this situation. \n",
    "It takes any number of iterables as arguments and returns an iterator over tuples in the \n",
    "Cartesian product:\n",
    "    Here’s an example with Python iterables: the Cartesian product of \n",
    "        A = [1, 2] and B = ['a', 'b'] \n",
    "        [(1, 'a'), (1, 'b'), (2, 'a'), (2, 'b')]      #this is good for values and suits of cards"
   ]
  },
  {
   "cell_type": "code",
   "execution_count": null,
   "id": "3d5bb874",
   "metadata": {},
   "outputs": [],
   "source": []
  }
 ],
 "metadata": {
  "kernelspec": {
   "display_name": "Python 3",
   "language": "python",
   "name": "python3"
  },
  "language_info": {
   "codemirror_mode": {
    "name": "ipython",
    "version": 3
   },
   "file_extension": ".py",
   "mimetype": "text/x-python",
   "name": "python",
   "nbconvert_exporter": "python",
   "pygments_lexer": "ipython3",
   "version": "3.8.8"
  }
 },
 "nbformat": 4,
 "nbformat_minor": 5
}
